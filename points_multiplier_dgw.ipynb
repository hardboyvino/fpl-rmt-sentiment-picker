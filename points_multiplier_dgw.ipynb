{
 "cells": [
  {
   "cell_type": "code",
   "execution_count": 1,
   "metadata": {},
   "outputs": [],
   "source": [
    "import pandas as pd"
   ]
  },
  {
   "cell_type": "code",
   "execution_count": 2,
   "metadata": {},
   "outputs": [],
   "source": [
    "# List of your CSV files (add your actual filenames here)\n",
    "CSV_FILES = ['transferable_players_joy.csv', 'transferable_players_niyi.csv', 'transferable_players_tosin.csv']"
   ]
  },
  {
   "cell_type": "code",
   "execution_count": 3,
   "metadata": {},
   "outputs": [],
   "source": [
    "# Define team multipliers\n",
    "TEAM_MULTIPLIERS = {\n",
    "    'Crystal Palace': 5, \n",
    "    'Newcastle': 4,\n",
    "    'Man City': 4,\n",
    "    'Aston Villa': 4,\n",
    "    'Arsenal': 4\n",
    "}"
   ]
  },
  {
   "cell_type": "code",
   "execution_count": 4,
   "metadata": {},
   "outputs": [],
   "source": [
    "def process_csv(filename):\n",
    "    df = pd.read_csv(filename, dtype={\n",
    "        'Name': 'string',\n",
    "        'Price': 'string',  # Preserve original price formatting\n",
    "        'Position': 'string',\n",
    "        'Team': 'string',\n",
    "        'Points': 'float64'    \n",
    "    })\n",
    "\n",
    "    # Apply multipliers using vectorized operations\n",
    "    df['Points'] *= df['Team'].map(lambda x: TEAM_MULTIPLIERS.get(x, 3))\n",
    "    \n",
    "    # Maintain original decimal precision (7 places) for Points\n",
    "    df['Points'] = df['Points'].apply(lambda x: f\"{x:.7f}\").astype(float)\n",
    "\n",
    "    df = df.sort_values(by='Points', ascending=False)\n",
    "    \n",
    "    # Save back to original CSV with preserved formatting\n",
    "    df.to_csv(f'mod_{filename}', index=False)"
   ]
  },
  {
   "cell_type": "code",
   "execution_count": 5,
   "metadata": {},
   "outputs": [
    {
     "name": "stdout",
     "output_type": "stream",
     "text": [
      "Processed transferable_players_joy.csv successfully\n",
      "Processed transferable_players_niyi.csv successfully\n",
      "Processed transferable_players_tosin.csv successfully\n"
     ]
    }
   ],
   "source": [
    "# Process all files\n",
    "for csv_file in CSV_FILES:\n",
    "    process_csv(csv_file)\n",
    "    print(f'Processed {csv_file} successfully')"
   ]
  },
  {
   "cell_type": "code",
   "execution_count": null,
   "metadata": {},
   "outputs": [],
   "source": []
  }
 ],
 "metadata": {
  "kernelspec": {
   "display_name": "Python 3",
   "language": "python",
   "name": "python3"
  },
  "language_info": {
   "codemirror_mode": {
    "name": "ipython",
    "version": 3
   },
   "file_extension": ".py",
   "mimetype": "text/x-python",
   "name": "python",
   "nbconvert_exporter": "python",
   "pygments_lexer": "ipython3",
   "version": "3.10.2"
  }
 },
 "nbformat": 4,
 "nbformat_minor": 2
}
